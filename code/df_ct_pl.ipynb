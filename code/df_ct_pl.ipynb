{
 "cells": [
  {
   "cell_type": "code",
   "execution_count": 1,
   "id": "03b867f1",
   "metadata": {},
   "outputs": [],
   "source": [
    "import polars as pl\n",
    "import numpy as np\n",
    "from datetime import datetime\n",
    "import pandas as pd\n",
    "# read the dataset in from the excel file\n",
    "df_t = pl.read_csv('~/CIS_4496_Project/data/raw/transactions_train.csv')"
   ]
  },
  {
   "cell_type": "code",
   "execution_count": 2,
   "id": "e0a186e6",
   "metadata": {},
   "outputs": [
    {
     "data": {
      "text/plain": [
       "7931"
      ]
     },
     "execution_count": 2,
     "metadata": {},
     "output_type": "execute_result"
    }
   ],
   "source": [
    "123224 - (17345 + 22830 + 16096 + 20209 + 38813)"
   ]
  },
  {
   "cell_type": "code",
   "execution_count": 2,
   "id": "42dfec97",
   "metadata": {},
   "outputs": [
    {
     "name": "stdout",
     "output_type": "stream",
     "text": [
      "2023-03-10 14:43:57.174685\n",
      "2023-03-10 14:48:00.566389 1351000\n",
      "2023-03-10 14:51:47.104489 1352000\n",
      "2023-03-10 14:55:35.166094 1353000\n",
      "2023-03-10 14:59:24.439626 1354000\n",
      "2023-03-10 15:03:13.316306 1355000\n",
      "2023-03-10 15:07:03.526104 1356000\n",
      "2023-03-10 15:10:55.395444 1357000\n",
      "2023-03-10 15:14:47.270679 1358000\n",
      "2023-03-10 15:18:40.194841 1359000\n",
      "2023-03-10 15:22:32.771593 1360000\n",
      "2023-03-10 15:26:24.913046 1361000\n",
      "2023-03-10 15:30:13.202290 1362000\n"
     ]
    }
   ],
   "source": [
    "# count = 17345 + 22830 + 16096 + 20209 + 38813 + 116084 + 38904 + 50441 + 35242 + 26366 + 24740 + 22348 + 31130 + 112156 + 2296 + 25000\n",
    "count = 1350000\n",
    "df_num = 17\n",
    "\n",
    "df_ct = pl.DataFrame(schema={\"customer_id\": str , \"articles\": pl.List(inner=pl.Int64)})\n",
    "\n",
    "print(datetime.now())\n",
    "for c in df_t['customer_id'].unique(maintain_order=True)[1350000:]:\n",
    "    df_ct = df_ct.vstack(pl.DataFrame([[c], [df_t.filter(pl.col('customer_id') == c)['article_id']]], schema=df_ct.schema))\n",
    "\n",
    "    count += 1\n",
    "    if count % 1000 == 0:\n",
    "        print(datetime.now(), count)\n",
    "    if count % 25000 == 0:\n",
    "        df_ct.to_pandas().to_csv('~/CIS_4496_Project/data/df_ct/df_ct' + str(df_num) + '.csv', index=False)\n",
    "        print('df_ct' + str(df_num) + ' saved.')\n",
    "        df_num += 1\n",
    "        df_ct = df_ct.clear()"
   ]
  },
  {
   "cell_type": "code",
   "execution_count": 3,
   "id": "5ada37f1",
   "metadata": {},
   "outputs": [
    {
     "data": {
      "text/plain": [
       "12281"
      ]
     },
     "execution_count": 3,
     "metadata": {},
     "output_type": "execute_result"
    }
   ],
   "source": [
    "df_ct.height"
   ]
  },
  {
   "cell_type": "code",
   "execution_count": 15,
   "id": "7b85023d",
   "metadata": {},
   "outputs": [],
   "source": [
    "# df_ct.write_csv('~/CIS_4496_Project/data/df_ct/df_ct5.csv')"
   ]
  },
  {
   "cell_type": "code",
   "execution_count": 5,
   "id": "82a6ae28",
   "metadata": {},
   "outputs": [],
   "source": [
    "import pandas as pd\n",
    "df_ct.to_pandas().to_csv('~/CIS_4496_Project/data/df_ct/df_ct47.csv', index=False)"
   ]
  },
  {
   "cell_type": "code",
   "execution_count": 4,
   "id": "6fa00d26",
   "metadata": {},
   "outputs": [
    {
     "data": {
      "text/html": [
       "<div>\n",
       "<style>\n",
       ".pl-dataframe > thead > tr > th {\n",
       "  text-align: right;\n",
       "}\n",
       "</style>\n",
       "\n",
       "<table border=\"1\" class=\"dataframe pl-dataframe\">\n",
       "<small>shape: (5, 2)</small>\n",
       "<thead>\n",
       "<tr>\n",
       "<th>\n",
       "customer_id\n",
       "</th>\n",
       "<th>\n",
       "articles\n",
       "</th>\n",
       "</tr>\n",
       "<tr>\n",
       "<td>\n",
       "str\n",
       "</td>\n",
       "<td>\n",
       "list[i64]\n",
       "</td>\n",
       "</tr>\n",
       "</thead>\n",
       "<tbody>\n",
       "<tr>\n",
       "<td>\n",
       "&quot;73a338d51750df...\n",
       "</td>\n",
       "<td>\n",
       "[891591003]\n",
       "</td>\n",
       "</tr>\n",
       "<tr>\n",
       "<td>\n",
       "&quot;73eb352f4703ad...\n",
       "</td>\n",
       "<td>\n",
       "[827968001]\n",
       "</td>\n",
       "</tr>\n",
       "<tr>\n",
       "<td>\n",
       "&quot;73f126acf3e7fd...\n",
       "</td>\n",
       "<td>\n",
       "[778285001, 864415002, ... 778285003]\n",
       "</td>\n",
       "</tr>\n",
       "<tr>\n",
       "<td>\n",
       "&quot;7415e2703854ca...\n",
       "</td>\n",
       "<td>\n",
       "[739590041, 519930001, ... 776237006]\n",
       "</td>\n",
       "</tr>\n",
       "<tr>\n",
       "<td>\n",
       "&quot;7421a7f8330aab...\n",
       "</td>\n",
       "<td>\n",
       "[775382001, 775382001]\n",
       "</td>\n",
       "</tr>\n",
       "</tbody>\n",
       "</table>\n",
       "</div>"
      ],
      "text/plain": [
       "shape: (5, 2)\n",
       "┌─────────────────────────────────────┬─────────────────────────────────────┐\n",
       "│ customer_id                         ┆ articles                            │\n",
       "│ ---                                 ┆ ---                                 │\n",
       "│ str                                 ┆ list[i64]                           │\n",
       "╞═════════════════════════════════════╪═════════════════════════════════════╡\n",
       "│ 73a338d51750dfe55311ea66c60d8b5f... ┆ [891591003]                         │\n",
       "│ 73eb352f4703ad8dfd93736884f24d56... ┆ [827968001]                         │\n",
       "│ 73f126acf3e7fdb88bd19375982d6cfa... ┆ [778285001, 864415002, ... 77828... │\n",
       "│ 7415e2703854ca0a28d1528ff1db5a26... ┆ [739590041, 519930001, ... 77623... │\n",
       "│ 7421a7f8330aab244aedbf3dd3a61bf7... ┆ [775382001, 775382001]              │\n",
       "└─────────────────────────────────────┴─────────────────────────────────────┘"
      ]
     },
     "execution_count": 4,
     "metadata": {},
     "output_type": "execute_result"
    }
   ],
   "source": [
    "df_ct.head()"
   ]
  },
  {
   "cell_type": "code",
   "execution_count": null,
   "id": "696f50bb",
   "metadata": {},
   "outputs": [],
   "source": []
  },
  {
   "cell_type": "code",
   "execution_count": null,
   "id": "676007c8",
   "metadata": {},
   "outputs": [],
   "source": []
  }
 ],
 "metadata": {
  "kernelspec": {
   "display_name": "Python 3 (ipykernel)",
   "language": "python",
   "name": "python3"
  },
  "language_info": {
   "codemirror_mode": {
    "name": "ipython",
    "version": 3
   },
   "file_extension": ".py",
   "mimetype": "text/x-python",
   "name": "python",
   "nbconvert_exporter": "python",
   "pygments_lexer": "ipython3",
   "version": "3.8.10"
  }
 },
 "nbformat": 4,
 "nbformat_minor": 5
}
